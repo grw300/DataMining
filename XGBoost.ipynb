{
 "cells": [
  {
   "cell_type": "code",
   "execution_count": 1,
   "metadata": {
    "collapsed": true
   },
   "outputs": [],
   "source": [
    "import multiprocessing\n",
    "\n",
    "import pandas as pd\n",
    "import numpy as np\n",
    "import xgboost as xgb\n",
    "\n",
    "from sklearn.preprocessing import LabelEncoder\n",
    "from sklearn import cross_validation, metrics \n",
    "from sklearn.grid_search import GridSearchCV \n",
    "\n",
    "import matplotlib.pylab as plt\n",
    "%matplotlib inline"
   ]
  },
  {
   "cell_type": "code",
   "execution_count": 2,
   "metadata": {},
   "outputs": [],
   "source": [
    "kagTrainDat = pd.read_csv('~/Documents/git/DataMining/train.csv')\n",
    "kagTestDat = pd.read_csv('~/Documents/git/DataMining/test.csv')\n",
    "\n",
    "y_train = kagTrainDat['ACTION']\n",
    "X_train = kagTrainDat.ix[:, kagTrainDat.columns != 'ACTION']\n",
    "\n",
    "X_test = kagTestDat.ix[:, kagTestDat.columns != 'id']"
   ]
  },
  {
   "cell_type": "code",
   "execution_count": 3,
   "metadata": {},
   "outputs": [],
   "source": [
    "gbm = xgb.XGBClassifier(nthread=multiprocessing.cpu_count(),\n",
    "                        n_estimators=1500,\n",
    "                        max_depth=5)"
   ]
  },
  {
   "cell_type": "code",
   "execution_count": 4,
   "metadata": {},
   "outputs": [
    {
     "name": "stderr",
     "output_type": "stream",
     "text": [
      "Will train until cv error hasn't decreased in 100 rounds.\n[0]\tcv-test-auc:0.6240458+0.009494636199454945\tcv-train-auc:0.6530128+0.007535541955294244\n"
     ]
    },
    {
     "name": "stderr",
     "output_type": "stream",
     "text": [
      "[500]\tcv-test-auc:0.8418338000000001+0.007877956318741558\tcv-train-auc:0.979636+0.0008614042024508625\n"
     ]
    },
    {
     "name": "stderr",
     "output_type": "stream",
     "text": [
      "Stopping. Best iteration:\n[840] cv-mean:0.8473200000000001\tcv-std:0.011482912278686102\n"
     ]
    }
   ],
   "source": [
    "xg_train = xgb.DMatrix(X_train.values, label=y_train.values)\n",
    "cv_result = xgb.cv(gbm.get_params(), xg_train,\n",
    "                   num_boost_round=gbm.get_params()['n_estimators'],\n",
    "                   nfold=5, metrics=\"auc\",\n",
    "                   early_stopping_rounds=100,\n",
    "                   verbose_eval=500)"
   ]
  },
  {
   "cell_type": "code",
   "execution_count": 4,
   "metadata": {},
   "outputs": [],
   "source": [
    "def grid_search(estimator, test_parameters):\n",
    "    return GridSearchCV(estimator=estimator, param_grid=test_parameters,\n",
    "                        scoring='roc_auc', n_jobs=4, iid=False, cv=5)"
   ]
  },
  {
   "cell_type": "code",
   "execution_count": 5,
   "metadata": {},
   "outputs": [
    {
     "data": {
      "text/plain": [
       "([mean: 0.83189, std: 0.01255, params: {'min_child_weight': 1, 'max_depth': 3},\n  mean: 0.82965, std: 0.01321, params: {'min_child_weight': 3, 'max_depth': 3},\n  mean: 0.82935, std: 0.01218, params: {'min_child_weight': 5, 'max_depth': 3},\n  mean: 0.84935, std: 0.01385, params: {'min_child_weight': 1, 'max_depth': 5},\n  mean: 0.84689, std: 0.01375, params: {'min_child_weight': 3, 'max_depth': 5},\n  mean: 0.84456, std: 0.01183, params: {'min_child_weight': 5, 'max_depth': 5},\n  mean: 0.85196, std: 0.01305, params: {'min_child_weight': 1, 'max_depth': 7},\n  mean: 0.85146, std: 0.01268, params: {'min_child_weight': 3, 'max_depth': 7},\n  mean: 0.84867, std: 0.01356, params: {'min_child_weight': 5, 'max_depth': 7}],\n {'max_depth': 7, 'min_child_weight': 1},\n 0.85195922314451311)"
      ]
     },
     "execution_count": 5,
     "metadata": {},
     "output_type": "execute_result"
    }
   ],
   "source": [
    "gbm2 = xgb.XGBClassifier(nthread=multiprocessing.cpu_count(),\n",
    "                         n_estimators=840,\n",
    "                         max_depth=5)\n",
    "\n",
    "param_test1 = {\n",
    "    'max_depth': list(range(3, 9, 2)),\n",
    "    'min_child_weight': list(range(1, 6, 2))\n",
    "}\n",
    "\n",
    "grid_search1 = grid_search(gbm2, param_test1)\n",
    "\n",
    "grid_search1.fit(X_train, y_train)\n",
    "grid_search1.grid_scores_, grid_search1.best_params_, grid_search1.best_score_"
   ]
  },
  {
   "cell_type": "code",
   "execution_count": null,
   "metadata": {},
   "outputs": [],
   "source": [
    "param_test2 = {\n",
    "    'max_depth': list(range(6, 8, 1)),\n",
    "    'min_child_weight': list(range(1, 2, 1))\n",
    "}\n",
    "\n",
    "grid_search2 = grid_search(gbm, param_test2)\n",
    "\n",
    "grid_search2.fit(X_train, y_train)\n",
    "grid_search2.grid_scores_, grid_search2.best_params_, grid_search2.best_score_"
   ]
  },
  {
   "cell_type": "code",
   "execution_count": 6,
   "metadata": {},
   "outputs": [],
   "source": [
    "gbm_final = xgb.XGBClassifier(nthread=multiprocessing.cpu_count(),\n",
    "                              n_estimators=840,\n",
    "                              max_depth=7,\n",
    "                              min_child_weight=1)\n",
    "\n",
    "gbm_final.fit(X_train, y_train, eval_metric='auc')\n",
    "\n",
    "predictions = gbm_final.predict(X_test)\n",
    "predict_prob = gbm_final.predict_proba(X_test)[:, 1]\n",
    "\n",
    "y_test = (predictions + predict_prob)/2.0"
   ]
  },
  {
   "cell_type": "code",
   "execution_count": 7,
   "metadata": {},
   "outputs": [],
   "source": [
    "submission = pd.Series(data=y_test, name='Action', index=kagTestDat['id'])\n",
    "\n",
    "submission.to_csv(\"~/Documents/git/DataMining/submission_xgboost.csv\",\n",
    "                  index=True,\n",
    "                  sep=',',\n",
    "                  header=True)\n"
   ]
  },
  {
   "cell_type": "code",
   "execution_count": null,
   "metadata": {},
   "outputs": [],
   "source": [
    ""
   ]
  }
 ],
 "metadata": {
  "kernelspec": {
   "display_name": "Python 2",
   "language": "python",
   "name": "python2"
  },
  "language_info": {
   "codemirror_mode": {
    "name": "ipython",
    "version": 2.0
   },
   "file_extension": ".py",
   "mimetype": "text/x-python",
   "name": "python",
   "nbconvert_exporter": "python",
   "pygments_lexer": "ipython2",
   "version": "2.7.6"
  }
 },
 "nbformat": 4,
 "nbformat_minor": 0
}