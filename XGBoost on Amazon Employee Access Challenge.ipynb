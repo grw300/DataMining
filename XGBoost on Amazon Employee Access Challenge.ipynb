{
 "cells": [
  {
   "cell_type": "code",
   "execution_count": 69,
   "metadata": {
    "collapsed": false
   },
   "outputs": [],
   "source": [
    "import multiprocessing\n",
    "\n",
    "import pandas as pd\n",
    "import numpy as np\n",
    "import xgboost as xgb\n",
    "\n",
    "from sklearn.preprocessing import LabelEncoder\n",
    "from sklearn import cross_validation, metrics \n",
    "from sklearn.grid_search import GridSearchCV \n",
    "\n",
    "import matplotlib.pylab as plt\n",
    "%matplotlib inline"
   ]
  },
  {
   "cell_type": "code",
   "execution_count": 70,
   "metadata": {
    "collapsed": true
   },
   "outputs": [],
   "source": [
    "kagTrainDat = pd.read_csv('~/Documents/git/DataMining/train.csv')\n",
    "kagTestDat = pd.read_csv('~/Documents/git/DataMining/test.csv')"
   ]
  },
  {
   "cell_type": "code",
   "execution_count": 71,
   "metadata": {},
   "outputs": [],
   "source": [
    "def modelfit(alg, X_train, y_train, predictors, useTrainCV=True, cv_folds=5, early_stopping_rounds=100):\n",
    "    \n",
    "    if useTrainCV:\n",
    "        xgb_param = alg.get_xgb_params()\n",
    "        xgtrain = xgb.DMatrix(X_train[predictors].values, label=y_train.values)\n",
    "        cvresult = xgb.cv(xgb_param, xgtrain, num_boost_round=alg.get_params()['n_estimators'], nfold=cv_folds,\n",
    "                          metrics=\"auc\", early_stopping_rounds=early_stopping_rounds, verbose_eval=500)\n",
    "        alg.set_params(n_estimators=cvresult.shape[0])\n",
    "    \n",
    "    #Fit the algorithm on the data\n",
    "    alg.fit(X_train[predictors], y_train, eval_metric='auc')\n",
    "        \n",
    "    #Predict training set:\n",
    "    dtrain_predictions = alg.predict(X_train[predictors])\n",
    "    dtrain_predprob = alg.predict_proba(X_train[predictors])[:, 1]\n",
    "        \n",
    "    #Print model report:\n",
    "    #print (cvresult)\n",
    "    print (\"\\nModel Report\")\n",
    "    print (\"Accuracy : %.4g\" % metrics.accuracy_score(y_train.values, dtrain_predictions))\n",
    "    print (\"AUC Score (Train): %f\" % metrics.roc_auc_score(y_train, dtrain_predprob))\n",
    "    \n",
    "    feat_imp = pd.Series(alg.booster().get_fscore()).sort_values(ascending=False)\n",
    "\n",
    "    feat_imp.plot(kind='bar', title='Feature Importances')\n",
    "    plt.ylabel('Feature Importance Score')"
   ]
  },
  {
   "cell_type": "code",
   "execution_count": 46,
   "metadata": {
    "collapsed": false
   },
   "outputs": [
    {
     "data": {
      "text/html": [
       "<div>\n",
       "<table border=\"1\" class=\"dataframe\">\n",
       "  <thead>\n",
       "    <tr style=\"text-align: right;\">\n",
       "      <th></th>\n",
       "      <th>ACTION</th>\n",
       "      <th>RESOURCE</th>\n",
       "      <th>MGR_ID</th>\n",
       "      <th>ROLE_ROLLUP_1</th>\n",
       "      <th>ROLE_ROLLUP_2</th>\n",
       "      <th>ROLE_DEPTNAME</th>\n",
       "      <th>ROLE_TITLE</th>\n",
       "      <th>ROLE_FAMILY_DESC</th>\n",
       "      <th>ROLE_FAMILY</th>\n",
       "      <th>ROLE_CODE</th>\n",
       "    </tr>\n",
       "  </thead>\n",
       "  <tbody>\n",
       "    <tr>\n",
       "      <th>0</th>\n",
       "      <td>1</td>\n",
       "      <td>39353</td>\n",
       "      <td>85475</td>\n",
       "      <td>117961</td>\n",
       "      <td>118300</td>\n",
       "      <td>123472</td>\n",
       "      <td>117905</td>\n",
       "      <td>117906</td>\n",
       "      <td>290919</td>\n",
       "      <td>117908</td>\n",
       "    </tr>\n",
       "    <tr>\n",
       "      <th>1</th>\n",
       "      <td>1</td>\n",
       "      <td>17183</td>\n",
       "      <td>1540</td>\n",
       "      <td>117961</td>\n",
       "      <td>118343</td>\n",
       "      <td>123125</td>\n",
       "      <td>118536</td>\n",
       "      <td>118536</td>\n",
       "      <td>308574</td>\n",
       "      <td>118539</td>\n",
       "    </tr>\n",
       "    <tr>\n",
       "      <th>2</th>\n",
       "      <td>1</td>\n",
       "      <td>36724</td>\n",
       "      <td>14457</td>\n",
       "      <td>118219</td>\n",
       "      <td>118220</td>\n",
       "      <td>117884</td>\n",
       "      <td>117879</td>\n",
       "      <td>267952</td>\n",
       "      <td>19721</td>\n",
       "      <td>117880</td>\n",
       "    </tr>\n",
       "    <tr>\n",
       "      <th>3</th>\n",
       "      <td>1</td>\n",
       "      <td>36135</td>\n",
       "      <td>5396</td>\n",
       "      <td>117961</td>\n",
       "      <td>118343</td>\n",
       "      <td>119993</td>\n",
       "      <td>118321</td>\n",
       "      <td>240983</td>\n",
       "      <td>290919</td>\n",
       "      <td>118322</td>\n",
       "    </tr>\n",
       "    <tr>\n",
       "      <th>4</th>\n",
       "      <td>1</td>\n",
       "      <td>42680</td>\n",
       "      <td>5905</td>\n",
       "      <td>117929</td>\n",
       "      <td>117930</td>\n",
       "      <td>119569</td>\n",
       "      <td>119323</td>\n",
       "      <td>123932</td>\n",
       "      <td>19793</td>\n",
       "      <td>119325</td>\n",
       "    </tr>\n",
       "  </tbody>\n",
       "</table>\n",
       "</div>"
      ],
      "text/plain": [
       "<div>\n",
       "<table border=\"1\" class=\"dataframe\">\n",
       "  <thead>\n",
       "    <tr style=\"text-align: right;\">\n",
       "      <th></th>\n",
       "      <th>ACTION</th>\n",
       "      <th>RESOURCE</th>\n",
       "      <th>MGR_ID</th>\n",
       "      <th>ROLE_ROLLUP_1</th>\n",
       "      <th>ROLE_ROLLUP_2</th>\n",
       "      <th>ROLE_DEPTNAME</th>\n",
       "      <th>ROLE_TITLE</th>\n",
       "      <th>ROLE_FAMILY_DESC</th>\n",
       "      <th>ROLE_FAMILY</th>\n",
       "      <th>ROLE_CODE</th>\n",
       "    </tr>\n",
       "  </thead>\n",
       "  <tbody>\n",
       "    <tr>\n",
       "      <th>0</th>\n",
       "      <td>1</td>\n",
       "      <td>39353</td>\n",
       "      <td>85475</td>\n",
       "      <td>117961</td>\n",
       "      <td>118300</td>\n",
       "      <td>123472</td>\n",
       "      <td>117905</td>\n",
       "      <td>117906</td>\n",
       "      <td>290919</td>\n",
       "      <td>117908</td>\n",
       "    </tr>\n",
       "    <tr>\n",
       "      <th>1</th>\n",
       "      <td>1</td>\n",
       "      <td>17183</td>\n",
       "      <td>1540</td>\n",
       "      <td>117961</td>\n",
       "      <td>118343</td>\n",
       "      <td>123125</td>\n",
       "      <td>118536</td>\n",
       "      <td>118536</td>\n",
       "      <td>308574</td>\n",
       "      <td>118539</td>\n",
       "    </tr>\n",
       "    <tr>\n",
       "      <th>2</th>\n",
       "      <td>1</td>\n",
       "      <td>36724</td>\n",
       "      <td>14457</td>\n",
       "      <td>118219</td>\n",
       "      <td>118220</td>\n",
       "      <td>117884</td>\n",
       "      <td>117879</td>\n",
       "      <td>267952</td>\n",
       "      <td>19721</td>\n",
       "      <td>117880</td>\n",
       "    </tr>\n",
       "    <tr>\n",
       "      <th>3</th>\n",
       "      <td>1</td>\n",
       "      <td>36135</td>\n",
       "      <td>5396</td>\n",
       "      <td>117961</td>\n",
       "      <td>118343</td>\n",
       "      <td>119993</td>\n",
       "      <td>118321</td>\n",
       "      <td>240983</td>\n",
       "      <td>290919</td>\n",
       "      <td>118322</td>\n",
       "    </tr>\n",
       "    <tr>\n",
       "      <th>4</th>\n",
       "      <td>1</td>\n",
       "      <td>42680</td>\n",
       "      <td>5905</td>\n",
       "      <td>117929</td>\n",
       "      <td>117930</td>\n",
       "      <td>119569</td>\n",
       "      <td>119323</td>\n",
       "      <td>123932</td>\n",
       "      <td>19793</td>\n",
       "      <td>119325</td>\n",
       "    </tr>\n",
       "  </tbody>\n",
       "</table>\n",
       "</div>"
      ]
     },
     "execution_count": 46,
     "metadata": {},
     "output_type": "execute_result"
    }
   ],
   "source": [
    "kagTrainDat.head()"
   ]
  },
  {
   "cell_type": "code",
   "execution_count": 6,
   "metadata": {
    "collapsed": false
   },
   "outputs": [
    {
     "data": {
      "text/html": [
       "<div>\n",
       "<table border=\"1\" class=\"dataframe\">\n",
       "  <thead>\n",
       "    <tr style=\"text-align: right;\">\n",
       "      <th></th>\n",
       "      <th>id</th>\n",
       "      <th>RESOURCE</th>\n",
       "      <th>MGR_ID</th>\n",
       "      <th>ROLE_ROLLUP_1</th>\n",
       "      <th>ROLE_ROLLUP_2</th>\n",
       "      <th>ROLE_DEPTNAME</th>\n",
       "      <th>ROLE_TITLE</th>\n",
       "      <th>ROLE_FAMILY_DESC</th>\n",
       "      <th>ROLE_FAMILY</th>\n",
       "      <th>ROLE_CODE</th>\n",
       "    </tr>\n",
       "  </thead>\n",
       "  <tbody>\n",
       "    <tr>\n",
       "      <th>0</th>\n",
       "      <td>1</td>\n",
       "      <td>78766</td>\n",
       "      <td>72734</td>\n",
       "      <td>118079</td>\n",
       "      <td>118080</td>\n",
       "      <td>117878</td>\n",
       "      <td>117879</td>\n",
       "      <td>118177</td>\n",
       "      <td>19721</td>\n",
       "      <td>117880</td>\n",
       "    </tr>\n",
       "    <tr>\n",
       "      <th>1</th>\n",
       "      <td>2</td>\n",
       "      <td>40644</td>\n",
       "      <td>4378</td>\n",
       "      <td>117961</td>\n",
       "      <td>118327</td>\n",
       "      <td>118507</td>\n",
       "      <td>118863</td>\n",
       "      <td>122008</td>\n",
       "      <td>118398</td>\n",
       "      <td>118865</td>\n",
       "    </tr>\n",
       "    <tr>\n",
       "      <th>2</th>\n",
       "      <td>3</td>\n",
       "      <td>75443</td>\n",
       "      <td>2395</td>\n",
       "      <td>117961</td>\n",
       "      <td>118300</td>\n",
       "      <td>119488</td>\n",
       "      <td>118172</td>\n",
       "      <td>301534</td>\n",
       "      <td>249618</td>\n",
       "      <td>118175</td>\n",
       "    </tr>\n",
       "    <tr>\n",
       "      <th>3</th>\n",
       "      <td>4</td>\n",
       "      <td>43219</td>\n",
       "      <td>19986</td>\n",
       "      <td>117961</td>\n",
       "      <td>118225</td>\n",
       "      <td>118403</td>\n",
       "      <td>120773</td>\n",
       "      <td>136187</td>\n",
       "      <td>118960</td>\n",
       "      <td>120774</td>\n",
       "    </tr>\n",
       "    <tr>\n",
       "      <th>4</th>\n",
       "      <td>5</td>\n",
       "      <td>42093</td>\n",
       "      <td>50015</td>\n",
       "      <td>117961</td>\n",
       "      <td>118343</td>\n",
       "      <td>119598</td>\n",
       "      <td>118422</td>\n",
       "      <td>300136</td>\n",
       "      <td>118424</td>\n",
       "      <td>118425</td>\n",
       "    </tr>\n",
       "  </tbody>\n",
       "</table>\n",
       "</div>"
      ],
      "text/plain": [
       "<div>\n",
       "<table border=\"1\" class=\"dataframe\">\n",
       "  <thead>\n",
       "    <tr style=\"text-align: right;\">\n",
       "      <th></th>\n",
       "      <th>id</th>\n",
       "      <th>RESOURCE</th>\n",
       "      <th>MGR_ID</th>\n",
       "      <th>ROLE_ROLLUP_1</th>\n",
       "      <th>ROLE_ROLLUP_2</th>\n",
       "      <th>ROLE_DEPTNAME</th>\n",
       "      <th>ROLE_TITLE</th>\n",
       "      <th>ROLE_FAMILY_DESC</th>\n",
       "      <th>ROLE_FAMILY</th>\n",
       "      <th>ROLE_CODE</th>\n",
       "    </tr>\n",
       "  </thead>\n",
       "  <tbody>\n",
       "    <tr>\n",
       "      <th>0</th>\n",
       "      <td>1</td>\n",
       "      <td>78766</td>\n",
       "      <td>72734</td>\n",
       "      <td>118079</td>\n",
       "      <td>118080</td>\n",
       "      <td>117878</td>\n",
       "      <td>117879</td>\n",
       "      <td>118177</td>\n",
       "      <td>19721</td>\n",
       "      <td>117880</td>\n",
       "    </tr>\n",
       "    <tr>\n",
       "      <th>1</th>\n",
       "      <td>2</td>\n",
       "      <td>40644</td>\n",
       "      <td>4378</td>\n",
       "      <td>117961</td>\n",
       "      <td>118327</td>\n",
       "      <td>118507</td>\n",
       "      <td>118863</td>\n",
       "      <td>122008</td>\n",
       "      <td>118398</td>\n",
       "      <td>118865</td>\n",
       "    </tr>\n",
       "    <tr>\n",
       "      <th>2</th>\n",
       "      <td>3</td>\n",
       "      <td>75443</td>\n",
       "      <td>2395</td>\n",
       "      <td>117961</td>\n",
       "      <td>118300</td>\n",
       "      <td>119488</td>\n",
       "      <td>118172</td>\n",
       "      <td>301534</td>\n",
       "      <td>249618</td>\n",
       "      <td>118175</td>\n",
       "    </tr>\n",
       "    <tr>\n",
       "      <th>3</th>\n",
       "      <td>4</td>\n",
       "      <td>43219</td>\n",
       "      <td>19986</td>\n",
       "      <td>117961</td>\n",
       "      <td>118225</td>\n",
       "      <td>118403</td>\n",
       "      <td>120773</td>\n",
       "      <td>136187</td>\n",
       "      <td>118960</td>\n",
       "      <td>120774</td>\n",
       "    </tr>\n",
       "    <tr>\n",
       "      <th>4</th>\n",
       "      <td>5</td>\n",
       "      <td>42093</td>\n",
       "      <td>50015</td>\n",
       "      <td>117961</td>\n",
       "      <td>118343</td>\n",
       "      <td>119598</td>\n",
       "      <td>118422</td>\n",
       "      <td>300136</td>\n",
       "      <td>118424</td>\n",
       "      <td>118425</td>\n",
       "    </tr>\n",
       "  </tbody>\n",
       "</table>\n",
       "</div>"
      ]
     },
     "execution_count": 6,
     "metadata": {},
     "output_type": "execute_result"
    }
   ],
   "source": [
    "kagTestDat.head()"
   ]
  },
  {
   "cell_type": "code",
   "execution_count": 72,
   "metadata": {
    "collapsed": false
   },
   "outputs": [],
   "source": [
    "y_train = kagTrainDat['ACTION']\n",
    "X_train = kagTrainDat.ix[:, kagTrainDat.columns != 'ACTION']\n",
    "\n",
    "X_test = kagTestDat.ix[:, kagTestDat.columns != 'id']"
   ]
  },
  {
   "cell_type": "code",
   "execution_count": 8,
   "metadata": {
    "collapsed": false
   },
   "outputs": [
    {
     "name": "stderr",
     "output_type": "stream",
     "text": [
      "Will train until cv error hasn't decreased in 50 rounds.\n[0]\tcv-test-auc:0.6240458+0.009494636199454945\tcv-train-auc:0.6530128+0.007535541955294244\n"
     ]
    },
    {
     "name": "stderr",
     "output_type": "stream",
     "text": [
      "Stopping. Best iteration:\n[210] cv-mean:0.8432976\tcv-std:0.011443132850753742\n"
     ]
    },
    {
     "name": "stdout",
     "output_type": "stream",
     "text": [
      "\nModel Report\nAccuracy : 0.9684\nAUC Score (Train): 0.980907\n"
     ]
    },
    {
     "data": {
      "image/png": "[encoded data removed]",
      "text/plain": [
       "<matplotlib.figure.Figure at 0xd55b907748>"
      ]
     },
     "metadata": {},
     "output_type": "display_data"
    }
   ],
   "source": [
    "predictors = np.delete(kagTrainDat.columns.get_values(), 0)\n",
    "\n",
    "gbm = xgb.XGBClassifier(nthread=multiprocessing.cpu_count(), n_estimators=1000,  max_depth=5,\n",
    "                        objective='binary:logistic', learning_rate=0.3)\n",
    "\n",
    "modelfit(gbm, X_train, y_train, predictors)"
   ]
  },
  {
   "cell_type": "code",
   "execution_count": 73,
   "metadata": {},
   "outputs": [
    {
     "ename": "KeyboardInterrupt",
     "evalue": "",
     "traceback": [
      "\u001b[0;31m---------------------------------------------------------------------------\u001b[0m",
      "\u001b[0;31mKeyboardInterrupt\u001b[0m                         Traceback (most recent call last)",
      "\u001b[0;32m<ipython-input-73-84edc430fa4a>\u001b[0m in \u001b[0;36m<module>\u001b[0;34m()\u001b[0m\n\u001b[1;32m      9\u001b[0m                         param_grid=param_test1, scoring='roc_auc', n_jobs=4, iid=False, cv=5)\n\u001b[1;32m     10\u001b[0m \u001b[0;34m\u001b[0m\u001b[0m\n\u001b[0;32m---> 11\u001b[0;31m \u001b[0mgsearch1\u001b[0m\u001b[0;34m.\u001b[0m\u001b[0mfit\u001b[0m\u001b[0;34m(\u001b[0m\u001b[0mX_train\u001b[0m\u001b[0;34m,\u001b[0m \u001b[0my_train\u001b[0m\u001b[0;34m)\u001b[0m\u001b[0;34m\u001b[0m\u001b[0m\n\u001b[0m\u001b[1;32m     12\u001b[0m \u001b[0mgsearch1\u001b[0m\u001b[0;34m.\u001b[0m\u001b[0mgrid_scores_\u001b[0m\u001b[0;34m,\u001b[0m \u001b[0mgsearch1\u001b[0m\u001b[0;34m.\u001b[0m\u001b[0mbest_params_\u001b[0m\u001b[0;34m,\u001b[0m \u001b[0mgsearch1\u001b[0m\u001b[0;34m.\u001b[0m\u001b[0mbest_score_\u001b[0m\u001b[0;34m\u001b[0m\u001b[0m\n",
      "\u001b[0;32m/usr/local/lib/python3.5/site-packages/sklearn/grid_search.py\u001b[0m in \u001b[0;36mfit\u001b[0;34m(self, X, y)\u001b[0m\n\u001b[1;32m    802\u001b[0m \u001b[0;34m\u001b[0m\u001b[0m\n\u001b[1;32m    803\u001b[0m         \"\"\"\n\u001b[0;32m--> 804\u001b[0;31m         \u001b[0;32mreturn\u001b[0m \u001b[0mself\u001b[0m\u001b[0;34m.\u001b[0m\u001b[0m_fit\u001b[0m\u001b[0;34m(\u001b[0m\u001b[0mX\u001b[0m\u001b[0;34m,\u001b[0m \u001b[0my\u001b[0m\u001b[0;34m,\u001b[0m \u001b[0mParameterGrid\u001b[0m\u001b[0;34m(\u001b[0m\u001b[0mself\u001b[0m\u001b[0;34m.\u001b[0m\u001b[0mparam_grid\u001b[0m\u001b[0;34m)\u001b[0m\u001b[0;34m)\u001b[0m\u001b[0;34m\u001b[0m\u001b[0m\n\u001b[0m\u001b[1;32m    805\u001b[0m \u001b[0;34m\u001b[0m\u001b[0m\n\u001b[1;32m    806\u001b[0m \u001b[0;34m\u001b[0m\u001b[0m\n",
      "\u001b[0;32m/usr/local/lib/python3.5/site-packages/sklearn/grid_search.py\u001b[0m in \u001b[0;36m_fit\u001b[0;34m(self, X, y, parameter_iterable)\u001b[0m\n\u001b[1;32m    551\u001b[0m                                     \u001b[0mself\u001b[0m\u001b[0;34m.\u001b[0m\u001b[0mfit_params\u001b[0m\u001b[0;34m,\u001b[0m \u001b[0mreturn_parameters\u001b[0m\u001b[0;34m=\u001b[0m\u001b[0;32mTrue\u001b[0m\u001b[0;34m,\u001b[0m\u001b[0;34m\u001b[0m\u001b[0m\n\u001b[1;32m    552\u001b[0m                                     error_score=self.error_score)\n\u001b[0;32m--> 553\u001b[0;31m                 \u001b[0;32mfor\u001b[0m \u001b[0mparameters\u001b[0m \u001b[0;32min\u001b[0m \u001b[0mparameter_iterable\u001b[0m\u001b[0;34m\u001b[0m\u001b[0m\n\u001b[0m\u001b[1;32m    554\u001b[0m                 for train, test in cv)\n\u001b[1;32m    555\u001b[0m \u001b[0;34m\u001b[0m\u001b[0m\n",
      "\u001b[0;32m/usr/local/lib/python3.5/site-packages/sklearn/externals/joblib/parallel.py\u001b[0m in \u001b[0;36m__call__\u001b[0;34m(self, iterable)\u001b[0m\n\u001b[1;32m    810\u001b[0m                 \u001b[0;31m# consumption.\u001b[0m\u001b[0;34m\u001b[0m\u001b[0;34m\u001b[0m\u001b[0m\n\u001b[1;32m    811\u001b[0m                 \u001b[0mself\u001b[0m\u001b[0;34m.\u001b[0m\u001b[0m_iterating\u001b[0m \u001b[0;34m=\u001b[0m \u001b[0;32mFalse\u001b[0m\u001b[0;34m\u001b[0m\u001b[0m\n\u001b[0;32m--> 812\u001b[0;31m             \u001b[0mself\u001b[0m\u001b[0;34m.\u001b[0m\u001b[0mretrieve\u001b[0m\u001b[0;34m(\u001b[0m\u001b[0;34m)\u001b[0m\u001b[0;34m\u001b[0m\u001b[0m\n\u001b[0m\u001b[1;32m    813\u001b[0m             \u001b[0;31m# Make sure that we get a last message telling us we are done\u001b[0m\u001b[0;34m\u001b[0m\u001b[0;34m\u001b[0m\u001b[0m\n\u001b[1;32m    814\u001b[0m             \u001b[0melapsed_time\u001b[0m \u001b[0;34m=\u001b[0m \u001b[0mtime\u001b[0m\u001b[0;34m.\u001b[0m\u001b[0mtime\u001b[0m\u001b[0;34m(\u001b[0m\u001b[0;34m)\u001b[0m \u001b[0;34m-\u001b[0m \u001b[0mself\u001b[0m\u001b[0;34m.\u001b[0m\u001b[0m_start_time\u001b[0m\u001b[0;34m\u001b[0m\u001b[0m\n",
      "\u001b[0;32m/usr/local/lib/python3.5/site-packages/sklearn/externals/joblib/parallel.py\u001b[0m in \u001b[0;36mretrieve\u001b[0;34m(self)\u001b[0m\n\u001b[1;32m    760\u001b[0m                         \u001b[0;31m# a working pool as they expect.\u001b[0m\u001b[0;34m\u001b[0m\u001b[0;34m\u001b[0m\u001b[0m\n\u001b[1;32m    761\u001b[0m                         \u001b[0mself\u001b[0m\u001b[0;34m.\u001b[0m\u001b[0m_initialize_pool\u001b[0m\u001b[0;34m(\u001b[0m\u001b[0;34m)\u001b[0m\u001b[0;34m\u001b[0m\u001b[0m\n\u001b[0;32m--> 762\u001b[0;31m                 \u001b[0;32mraise\u001b[0m \u001b[0mexception\u001b[0m\u001b[0;34m\u001b[0m\u001b[0m\n\u001b[0m\u001b[1;32m    763\u001b[0m \u001b[0;34m\u001b[0m\u001b[0m\n\u001b[1;32m    764\u001b[0m     \u001b[0;32mdef\u001b[0m \u001b[0m__call__\u001b[0m\u001b[0;34m(\u001b[0m\u001b[0mself\u001b[0m\u001b[0;34m,\u001b[0m \u001b[0miterable\u001b[0m\u001b[0;34m)\u001b[0m\u001b[0;34m:\u001b[0m\u001b[0;34m\u001b[0m\u001b[0m\n",
      "\u001b[0;32m/usr/local/lib/python3.5/site-packages/sklearn/externals/joblib/parallel.py\u001b[0m in \u001b[0;36mretrieve\u001b[0;34m(self)\u001b[0m\n\u001b[1;32m    729\u001b[0m                 \u001b[0mjob\u001b[0m \u001b[0;34m=\u001b[0m \u001b[0mself\u001b[0m\u001b[0;34m.\u001b[0m\u001b[0m_jobs\u001b[0m\u001b[0;34m.\u001b[0m\u001b[0mpop\u001b[0m\u001b[0;34m(\u001b[0m\u001b[0;36m0\u001b[0m\u001b[0;34m)\u001b[0m\u001b[0;34m\u001b[0m\u001b[0m\n\u001b[1;32m    730\u001b[0m             \u001b[0;32mtry\u001b[0m\u001b[0;34m:\u001b[0m\u001b[0;34m\u001b[0m\u001b[0m\n\u001b[0;32m--> 731\u001b[0;31m                 \u001b[0mself\u001b[0m\u001b[0;34m.\u001b[0m\u001b[0m_output\u001b[0m\u001b[0;34m.\u001b[0m\u001b[0mextend\u001b[0m\u001b[0;34m(\u001b[0m\u001b[0mjob\u001b[0m\u001b[0;34m.\u001b[0m\u001b[0mget\u001b[0m\u001b[0;34m(\u001b[0m\u001b[0;34m)\u001b[0m\u001b[0;34m)\u001b[0m\u001b[0;34m\u001b[0m\u001b[0m\n\u001b[0m\u001b[1;32m    732\u001b[0m             \u001b[0;32mexcept\u001b[0m \u001b[0mtuple\u001b[0m\u001b[0;34m(\u001b[0m\u001b[0mself\u001b[0m\u001b[0;34m.\u001b[0m\u001b[0mexceptions\u001b[0m\u001b[0;34m)\u001b[0m \u001b[0;32mas\u001b[0m \u001b[0mexception\u001b[0m\u001b[0;34m:\u001b[0m\u001b[0;34m\u001b[0m\u001b[0m\n\u001b[1;32m    733\u001b[0m                 \u001b[0;31m# Stop dispatching any new job in the async callback thread\u001b[0m\u001b[0;34m\u001b[0m\u001b[0;34m\u001b[0m\u001b[0m\n",
      "\u001b[0;32m/usr/local/Cellar/python3/3.5.1/Frameworks/Python.framework/Versions/3.5/lib/python3.5/multiprocessing/pool.py\u001b[0m in \u001b[0;36mget\u001b[0;34m(self, timeout)\u001b[0m\n\u001b[1;32m    600\u001b[0m \u001b[0;34m\u001b[0m\u001b[0m\n\u001b[1;32m    601\u001b[0m     \u001b[0;32mdef\u001b[0m \u001b[0mget\u001b[0m\u001b[0;34m(\u001b[0m\u001b[0mself\u001b[0m\u001b[0;34m,\u001b[0m \u001b[0mtimeout\u001b[0m\u001b[0;34m=\u001b[0m\u001b[0;32mNone\u001b[0m\u001b[0;34m)\u001b[0m\u001b[0;34m:\u001b[0m\u001b[0;34m\u001b[0m\u001b[0m\n\u001b[0;32m--> 602\u001b[0;31m         \u001b[0mself\u001b[0m\u001b[0;34m.\u001b[0m\u001b[0mwait\u001b[0m\u001b[0;34m(\u001b[0m\u001b[0mtimeout\u001b[0m\u001b[0;34m)\u001b[0m\u001b[0;34m\u001b[0m\u001b[0m\n\u001b[0m\u001b[1;32m    603\u001b[0m         \u001b[0;32mif\u001b[0m \u001b[0;32mnot\u001b[0m \u001b[0mself\u001b[0m\u001b[0;34m.\u001b[0m\u001b[0mready\u001b[0m\u001b[0;34m(\u001b[0m\u001b[0;34m)\u001b[0m\u001b[0;34m:\u001b[0m\u001b[0;34m\u001b[0m\u001b[0m\n\u001b[1;32m    604\u001b[0m             \u001b[0;32mraise\u001b[0m \u001b[0mTimeoutError\u001b[0m\u001b[0;34m\u001b[0m\u001b[0m\n",
      "\u001b[0;32m/usr/local/Cellar/python3/3.5.1/Frameworks/Python.framework/Versions/3.5/lib/python3.5/multiprocessing/pool.py\u001b[0m in \u001b[0;36mwait\u001b[0;34m(self, timeout)\u001b[0m\n\u001b[1;32m    597\u001b[0m \u001b[0;34m\u001b[0m\u001b[0m\n\u001b[1;32m    598\u001b[0m     \u001b[0;32mdef\u001b[0m \u001b[0mwait\u001b[0m\u001b[0;34m(\u001b[0m\u001b[0mself\u001b[0m\u001b[0;34m,\u001b[0m \u001b[0mtimeout\u001b[0m\u001b[0;34m=\u001b[0m\u001b[0;32mNone\u001b[0m\u001b[0;34m)\u001b[0m\u001b[0;34m:\u001b[0m\u001b[0;34m\u001b[0m\u001b[0m\n\u001b[0;32m--> 599\u001b[0;31m         \u001b[0mself\u001b[0m\u001b[0;34m.\u001b[0m\u001b[0m_event\u001b[0m\u001b[0;34m.\u001b[0m\u001b[0mwait\u001b[0m\u001b[0;34m(\u001b[0m\u001b[0mtimeout\u001b[0m\u001b[0;34m)\u001b[0m\u001b[0;34m\u001b[0m\u001b[0m\n\u001b[0m\u001b[1;32m    600\u001b[0m \u001b[0;34m\u001b[0m\u001b[0m\n\u001b[1;32m    601\u001b[0m     \u001b[0;32mdef\u001b[0m \u001b[0mget\u001b[0m\u001b[0;34m(\u001b[0m\u001b[0mself\u001b[0m\u001b[0;34m,\u001b[0m \u001b[0mtimeout\u001b[0m\u001b[0;34m=\u001b[0m\u001b[0;32mNone\u001b[0m\u001b[0;34m)\u001b[0m\u001b[0;34m:\u001b[0m\u001b[0;34m\u001b[0m\u001b[0m\n",
      "\u001b[0;32m/usr/local/Cellar/python3/3.5.1/Frameworks/Python.framework/Versions/3.5/lib/python3.5/threading.py\u001b[0m in \u001b[0;36mwait\u001b[0;34m(self, timeout)\u001b[0m\n\u001b[1;32m    547\u001b[0m             \u001b[0msignaled\u001b[0m \u001b[0;34m=\u001b[0m \u001b[0mself\u001b[0m\u001b[0;34m.\u001b[0m\u001b[0m_flag\u001b[0m\u001b[0;34m\u001b[0m\u001b[0m\n\u001b[1;32m    548\u001b[0m             \u001b[0;32mif\u001b[0m \u001b[0;32mnot\u001b[0m \u001b[0msignaled\u001b[0m\u001b[0;34m:\u001b[0m\u001b[0;34m\u001b[0m\u001b[0m\n\u001b[0;32m--> 549\u001b[0;31m                 \u001b[0msignaled\u001b[0m \u001b[0;34m=\u001b[0m \u001b[0mself\u001b[0m\u001b[0;34m.\u001b[0m\u001b[0m_cond\u001b[0m\u001b[0;34m.\u001b[0m\u001b[0mwait\u001b[0m\u001b[0;34m(\u001b[0m\u001b[0mtimeout\u001b[0m\u001b[0;34m)\u001b[0m\u001b[0;34m\u001b[0m\u001b[0m\n\u001b[0m\u001b[1;32m    550\u001b[0m             \u001b[0;32mreturn\u001b[0m \u001b[0msignaled\u001b[0m\u001b[0;34m\u001b[0m\u001b[0m\n\u001b[1;32m    551\u001b[0m \u001b[0;34m\u001b[0m\u001b[0m\n",
      "\u001b[0;32m/usr/local/Cellar/python3/3.5.1/Frameworks/Python.framework/Versions/3.5/lib/python3.5/threading.py\u001b[0m in \u001b[0;36mwait\u001b[0;34m(self, timeout)\u001b[0m\n\u001b[1;32m    291\u001b[0m         \u001b[0;32mtry\u001b[0m\u001b[0;34m:\u001b[0m    \u001b[0;31m# restore state no matter what (e.g., KeyboardInterrupt)\u001b[0m\u001b[0;34m\u001b[0m\u001b[0m\n\u001b[1;32m    292\u001b[0m             \u001b[0;32mif\u001b[0m \u001b[0mtimeout\u001b[0m \u001b[0;32mis\u001b[0m \u001b[0;32mNone\u001b[0m\u001b[0;34m:\u001b[0m\u001b[0;34m\u001b[0m\u001b[0m\n\u001b[0;32m--> 293\u001b[0;31m                 \u001b[0mwaiter\u001b[0m\u001b[0;34m.\u001b[0m\u001b[0macquire\u001b[0m\u001b[0;34m(\u001b[0m\u001b[0;34m)\u001b[0m\u001b[0;34m\u001b[0m\u001b[0m\n\u001b[0m\u001b[1;32m    294\u001b[0m                 \u001b[0mgotit\u001b[0m \u001b[0;34m=\u001b[0m \u001b[0;32mTrue\u001b[0m\u001b[0;34m\u001b[0m\u001b[0m\n\u001b[1;32m    295\u001b[0m             \u001b[0;32melse\u001b[0m\u001b[0;34m:\u001b[0m\u001b[0;34m\u001b[0m\u001b[0m\n",
      "\u001b[0;31mKeyboardInterrupt\u001b[0m: "
     ],
     "output_type": "error"
    }
   ],
   "source": [
    "param_test1 = {\n",
    "    'max_depth': list(range(3, 10, 2)),\n",
    "    'min_child_weight': list(range(1, 6, 2))\n",
    "}\n",
    "\n",
    "gsearch1 = GridSearchCV(estimator=xgb.XGBClassifier(learning_rate=0.3, n_estimators=210, max_depth=5,\n",
    "                                                    min_child_weight=1, gamma=0, objective='binary:logistic',\n",
    "                                                    nthread=multiprocessing.cpu_count(), scale_pos_weight=1),\n",
    "                        param_grid=param_test1, scoring='roc_auc', n_jobs=4, iid=False, cv=5)\n",
    "\n",
    "gsearch1.fit(X_train, y_train)\n",
    "gsearch1.grid_scores_, gsearch1.best_params_, gsearch1.best_score_"
   ]
  },
  {
   "cell_type": "code",
   "execution_count": 10,
   "metadata": {},
   "outputs": [
    {
     "data": {
      "text/plain": [
       "([mean: 0.84685, std: 0.01549, params: {'max_depth': 6, 'min_child_weight': 0},\n  mean: 0.84788, std: 0.01280, params: {'max_depth': 6, 'min_child_weight': 1},\n  mean: 0.84742, std: 0.01091, params: {'min_child_weight': 2, 'max_depth': 6},\n  mean: 0.84404, std: 0.01309, params: {'min_child_weight': 0, 'max_depth': 7},\n  mean: 0.84991, std: 0.01598, params: {'min_child_weight': 1, 'max_depth': 7},\n  mean: 0.84722, std: 0.01258, params: {'max_depth': 7, 'min_child_weight': 2},\n  mean: 0.84481, std: 0.01630, params: {'min_child_weight': 0, 'max_depth': 8},\n  mean: 0.84781, std: 0.01119, params: {'max_depth': 8, 'min_child_weight': 1},\n  mean: 0.84617, std: 0.01477, params: {'min_child_weight': 2, 'max_depth': 8}],\n {'max_depth': 7, 'min_child_weight': 1},\n 0.84991044507699343)"
      ]
     },
     "execution_count": 10,
     "metadata": {},
     "output_type": "execute_result"
    }
   ],
   "source": [
    "param_test2 = {\n",
    "    'max_depth': [6, 7, 8],\n",
    "    'min_child_weight': [0, 1, 2]\n",
    "}\n",
    "\n",
    "gsearch2 = GridSearchCV(estimator=xgb.XGBClassifier(learning_rate=0.3, n_estimators=210, max_depth=7,\n",
    "                                                    min_child_weight=1, gamma=0, objective='binary:logistic',\n",
    "                                                    nthread=multiprocessing.cpu_count(), scale_pos_weight=1),\n",
    "                        param_grid=param_test2, scoring='roc_auc', n_jobs=4, iid=False, cv=5)\n",
    "\n",
    "gsearch2.fit(X_train, y_train)\n",
    "gsearch2.grid_scores_, gsearch2.best_params_, gsearch2.best_score_"
   ]
  },
  {
   "cell_type": "code",
   "execution_count": 11,
   "metadata": {},
   "outputs": [
    {
     "data": {
      "text/plain": [
       "([mean: 0.84991, std: 0.01598, params: {'gamma': 0.0},\n  mean: 0.84746, std: 0.01388, params: {'gamma': 0.1},\n  mean: 0.85035, std: 0.01321, params: {'gamma': 0.2},\n  mean: 0.84594, std: 0.00977, params: {'gamma': 0.3},\n  mean: 0.84401, std: 0.01293, params: {'gamma': 0.4}],\n {'gamma': 0.2},\n 0.85035420491913938)"
      ]
     },
     "execution_count": 11,
     "metadata": {},
     "output_type": "execute_result"
    }
   ],
   "source": [
    "param_test3 = {\n",
    "    'gamma': [i/10.0 for i in range(0, 5)]\n",
    "}\n",
    "\n",
    "gsearch3 = GridSearchCV(estimator=xgb.XGBClassifier(learning_rate=0.3, n_estimators=210, max_depth=7,\n",
    "                                                    min_child_weight=1, gamma=0, objective='binary:logistic',\n",
    "                                                    nthread=multiprocessing.cpu_count(), scale_pos_weight=1),\n",
    "                        param_grid=param_test3, scoring='roc_auc', n_jobs=4, iid=False, cv=5)\n",
    "\n",
    "gsearch3.fit(X_train, y_train)\n",
    "gsearch3.grid_scores_, gsearch3.best_params_, gsearch3.best_score_"
   ]
  },
  {
   "cell_type": "code",
   "execution_count": 12,
   "metadata": {},
   "outputs": [
    {
     "name": "stderr",
     "output_type": "stream",
     "text": [
      "Will train until cv error hasn't decreased in 50 rounds.\n[0]\tcv-test-auc:0.6416422+0.012864649818786345\tcv-train-auc:0.6835330000000001+0.010690746185369847\n"
     ]
    },
    {
     "name": "stderr",
     "output_type": "stream",
     "text": [
      "Stopping. Best iteration:\n[175] cv-mean:0.8436993999999999\tcv-std:0.010164609556692265\n"
     ]
    },
    {
     "name": "stdout",
     "output_type": "stream",
     "text": [
      "\nModel Report\nAccuracy : 0.9829\nAUC Score (Train): 0.996103\n"
     ]
    },
    {
     "data": {
      "image/png": "[encoded data removed]",
      "text/plain": [
       "<matplotlib.figure.Figure at 0xd55dcbbe48>"
      ]
     },
     "metadata": {},
     "output_type": "display_data"
    }
   ],
   "source": [
    "gbm2 = xgb.XGBClassifier(nthread=multiprocessing.cpu_count(), n_estimators=1000,  max_depth=7,\n",
    "                         objective='binary:logistic', learning_rate=0.3, min_child_weight=1,\n",
    "                         gamma=0.2)\n",
    "\n",
    "modelfit(gbm2, X_train, y_train, predictors)"
   ]
  },
  {
   "cell_type": "code",
   "execution_count": 32,
   "metadata": {},
   "outputs": [
    {
     "data": {
      "text/plain": [
       "([mean: 0.83639, std: 0.01026, params: {'colsample_bytree': 0.3, 'subsample': 0.3},\n  mean: 0.84454, std: 0.00981, params: {'colsample_bytree': 0.3, 'subsample': 0.4},\n  mean: 0.84557, std: 0.00944, params: {'colsample_bytree': 0.3, 'subsample': 0.5},\n  mean: 0.85193, std: 0.00902, params: {'colsample_bytree': 0.3, 'subsample': 0.6},\n  mean: 0.85217, std: 0.00913, params: {'colsample_bytree': 0.3, 'subsample': 0.7},\n  mean: 0.85525, std: 0.01151, params: {'colsample_bytree': 0.3, 'subsample': 0.8},\n  mean: 0.85490, std: 0.00904, params: {'colsample_bytree': 0.3, 'subsample': 0.9},\n  mean: 0.85185, std: 0.00860, params: {'colsample_bytree': 0.3, 'subsample': 1.0},\n  mean: 0.83500, std: 0.01118, params: {'colsample_bytree': 0.4, 'subsample': 0.3},\n  mean: 0.84633, std: 0.01022, params: {'colsample_bytree': 0.4, 'subsample': 0.4},\n  mean: 0.84855, std: 0.00878, params: {'colsample_bytree': 0.4, 'subsample': 0.5},\n  mean: 0.84740, std: 0.00924, params: {'colsample_bytree': 0.4, 'subsample': 0.6},\n  mean: 0.85275, std: 0.00919, params: {'colsample_bytree': 0.4, 'subsample': 0.7},\n  mean: 0.85653, std: 0.01085, params: {'colsample_bytree': 0.4, 'subsample': 0.8},\n  mean: 0.85780, std: 0.00865, params: {'colsample_bytree': 0.4, 'subsample': 0.9},\n  mean: 0.85544, std: 0.01058, params: {'colsample_bytree': 0.4, 'subsample': 1.0},\n  mean: 0.83487, std: 0.01132, params: {'colsample_bytree': 0.5, 'subsample': 0.3},\n  mean: 0.84357, std: 0.01133, params: {'colsample_bytree': 0.5, 'subsample': 0.4},\n  mean: 0.84919, std: 0.01080, params: {'colsample_bytree': 0.5, 'subsample': 0.5},\n  mean: 0.85129, std: 0.00730, params: {'colsample_bytree': 0.5, 'subsample': 0.6},\n  mean: 0.85063, std: 0.00882, params: {'colsample_bytree': 0.5, 'subsample': 0.7},\n  mean: 0.85506, std: 0.01245, params: {'colsample_bytree': 0.5, 'subsample': 0.8},\n  mean: 0.85866, std: 0.01134, params: {'colsample_bytree': 0.5, 'subsample': 0.9},\n  mean: 0.85849, std: 0.00730, params: {'colsample_bytree': 0.5, 'subsample': 1.0},\n  mean: 0.83157, std: 0.01144, params: {'colsample_bytree': 0.6, 'subsample': 0.3},\n  mean: 0.83701, std: 0.01031, params: {'colsample_bytree': 0.6, 'subsample': 0.4},\n  mean: 0.84570, std: 0.00901, params: {'colsample_bytree': 0.6, 'subsample': 0.5},\n  mean: 0.84894, std: 0.00952, params: {'colsample_bytree': 0.6, 'subsample': 0.6},\n  mean: 0.85179, std: 0.01195, params: {'colsample_bytree': 0.6, 'subsample': 0.7},\n  mean: 0.85158, std: 0.01432, params: {'colsample_bytree': 0.6, 'subsample': 0.8},\n  mean: 0.85236, std: 0.01073, params: {'colsample_bytree': 0.6, 'subsample': 0.9},\n  mean: 0.85420, std: 0.01076, params: {'colsample_bytree': 0.6, 'subsample': 1.0},\n  mean: 0.83019, std: 0.01483, params: {'colsample_bytree': 0.7, 'subsample': 0.3},\n  mean: 0.83926, std: 0.01379, params: {'colsample_bytree': 0.7, 'subsample': 0.4},\n  mean: 0.84572, std: 0.01041, params: {'colsample_bytree': 0.7, 'subsample': 0.5},\n  mean: 0.84506, std: 0.01269, params: {'colsample_bytree': 0.7, 'subsample': 0.6},\n  mean: 0.84827, std: 0.01030, params: {'colsample_bytree': 0.7, 'subsample': 0.7},\n  mean: 0.85159, std: 0.01481, params: {'colsample_bytree': 0.7, 'subsample': 0.8},\n  mean: 0.85438, std: 0.01173, params: {'colsample_bytree': 0.7, 'subsample': 0.9},\n  mean: 0.85436, std: 0.01366, params: {'colsample_bytree': 0.7, 'subsample': 1.0},\n  mean: 0.83018, std: 0.00796, params: {'colsample_bytree': 0.8, 'subsample': 0.3},\n  mean: 0.83628, std: 0.01286, params: {'colsample_bytree': 0.8, 'subsample': 0.4},\n  mean: 0.83889, std: 0.01124, params: {'colsample_bytree': 0.8, 'subsample': 0.5},\n  mean: 0.84477, std: 0.01376, params: {'colsample_bytree': 0.8, 'subsample': 0.6},\n  mean: 0.84542, std: 0.01072, params: {'colsample_bytree': 0.8, 'subsample': 0.7},\n  mean: 0.85245, std: 0.00982, params: {'colsample_bytree': 0.8, 'subsample': 0.8},\n  mean: 0.85074, std: 0.01455, params: {'colsample_bytree': 0.8, 'subsample': 0.9},\n  mean: 0.85027, std: 0.01491, params: {'colsample_bytree': 0.8, 'subsample': 1.0},\n  mean: 0.82333, std: 0.01024, params: {'colsample_bytree': 0.9, 'subsample': 0.3},\n  mean: 0.83614, std: 0.01159, params: {'colsample_bytree': 0.9, 'subsample': 0.4},\n  mean: 0.83690, std: 0.00901, params: {'colsample_bytree': 0.9, 'subsample': 0.5},\n  mean: 0.83870, std: 0.01163, params: {'colsample_bytree': 0.9, 'subsample': 0.6},\n  mean: 0.84658, std: 0.01267, params: {'colsample_bytree': 0.9, 'subsample': 0.7},\n  mean: 0.84761, std: 0.00984, params: {'colsample_bytree': 0.9, 'subsample': 0.8},\n  mean: 0.84659, std: 0.01153, params: {'colsample_bytree': 0.9, 'subsample': 0.9},\n  mean: 0.84917, std: 0.01111, params: {'colsample_bytree': 0.9, 'subsample': 1.0},\n  mean: 0.82340, std: 0.01122, params: {'colsample_bytree': 1.0, 'subsample': 0.3},\n  mean: 0.83167, std: 0.01166, params: {'colsample_bytree': 1.0, 'subsample': 0.4},\n  mean: 0.83923, std: 0.01054, params: {'colsample_bytree': 1.0, 'subsample': 0.5},\n  mean: 0.84289, std: 0.01229, params: {'colsample_bytree': 1.0, 'subsample': 0.6},\n  mean: 0.84381, std: 0.01328, params: {'colsample_bytree': 1.0, 'subsample': 0.7},\n  mean: 0.84668, std: 0.01095, params: {'colsample_bytree': 1.0, 'subsample': 0.8},\n  mean: 0.84597, std: 0.01173, params: {'colsample_bytree': 1.0, 'subsample': 0.9},\n  mean: 0.84982, std: 0.01363, params: {'colsample_bytree': 1.0, 'subsample': 1.0}],\n {'colsample_bytree': 0.5, 'subsample': 0.9},\n 0.85866229740259925)"
      ]
     },
     "execution_count": 32,
     "metadata": {},
     "output_type": "execute_result"
    }
   ],
   "source": [
    "param_test4 = {\n",
    "    'subsample': [i/10.0 for i in range(3, 11)],\n",
    "    'colsample_bytree': [i/10.0 for i in range(3, 11)]\n",
    "}\n",
    "\n",
    "gsearch4 = GridSearchCV(estimator=xgb.XGBClassifier(learning_rate=0.3, n_estimators=175, max_depth=7,\n",
    "                                                    min_child_weight=1, gamma=0.2, objective='binary:logistic',\n",
    "                                                    nthread=multiprocessing.cpu_count(), scale_pos_weight=1),\n",
    "                        param_grid=param_test4, scoring='roc_auc', n_jobs=4, iid=False, cv=5)\n",
    "\n",
    "gsearch4.fit(X_train, y_train)\n",
    "gsearch4.grid_scores_, gsearch4.best_params_, gsearch4.best_score_"
   ]
  },
  {
   "cell_type": "code",
   "execution_count": 33,
   "metadata": {},
   "outputs": [
    {
     "data": {
      "text/plain": [
       "([mean: 0.85653, std: 0.01085, params: {'colsample_bytree': 0.4, 'subsample': 0.8},\n  mean: 0.85592, std: 0.01198, params: {'colsample_bytree': 0.4, 'subsample': 0.85},\n  mean: 0.85780, std: 0.00865, params: {'colsample_bytree': 0.4, 'subsample': 0.9},\n  mean: 0.85590, std: 0.01185, params: {'colsample_bytree': 0.4, 'subsample': 0.95},\n  mean: 0.85506, std: 0.01245, params: {'colsample_bytree': 0.45, 'subsample': 0.8},\n  mean: 0.85670, std: 0.00861, params: {'colsample_bytree': 0.45, 'subsample': 0.85},\n  mean: 0.85866, std: 0.01134, params: {'colsample_bytree': 0.45, 'subsample': 0.9},\n  mean: 0.85400, std: 0.01169, params: {'colsample_bytree': 0.45, 'subsample': 0.95},\n  mean: 0.85506, std: 0.01245, params: {'colsample_bytree': 0.5, 'subsample': 0.8},\n  mean: 0.85670, std: 0.00861, params: {'colsample_bytree': 0.5, 'subsample': 0.85},\n  mean: 0.85866, std: 0.01134, params: {'colsample_bytree': 0.5, 'subsample': 0.9},\n  mean: 0.85400, std: 0.01169, params: {'colsample_bytree': 0.5, 'subsample': 0.95},\n  mean: 0.85506, std: 0.01245, params: {'colsample_bytree': 0.55, 'subsample': 0.8},\n  mean: 0.85670, std: 0.00861, params: {'colsample_bytree': 0.55, 'subsample': 0.85},\n  mean: 0.85866, std: 0.01134, params: {'colsample_bytree': 0.55, 'subsample': 0.9},\n  mean: 0.85400, std: 0.01169, params: {'colsample_bytree': 0.55, 'subsample': 0.95},\n  mean: 0.85158, std: 0.01432, params: {'colsample_bytree': 0.6, 'subsample': 0.8},\n  mean: 0.85257, std: 0.01261, params: {'colsample_bytree': 0.6, 'subsample': 0.85},\n  mean: 0.85236, std: 0.01073, params: {'colsample_bytree': 0.6, 'subsample': 0.9},\n  mean: 0.85337, std: 0.01032, params: {'colsample_bytree': 0.6, 'subsample': 0.95},\n  mean: 0.85158, std: 0.01432, params: {'colsample_bytree': 0.65, 'subsample': 0.8},\n  mean: 0.85257, std: 0.01261, params: {'colsample_bytree': 0.65, 'subsample': 0.85},\n  mean: 0.85236, std: 0.01073, params: {'colsample_bytree': 0.65, 'subsample': 0.9},\n  mean: 0.85337, std: 0.01032, params: {'colsample_bytree': 0.65, 'subsample': 0.95}],\n {'colsample_bytree': 0.45, 'subsample': 0.9},\n 0.85866229740259925)"
      ]
     },
     "execution_count": 33,
     "metadata": {},
     "output_type": "execute_result"
    }
   ],
   "source": [
    "param_test5 = {\n",
    "    'subsample': [i/100.0 for i in range(80, 100, 5)],\n",
    "    'colsample_bytree': [i/100.0 for i in range(40, 70, 5)]\n",
    "}\n",
    "\n",
    "gsearch5 = GridSearchCV(estimator=xgb.XGBClassifier(learning_rate=0.3, n_estimators=175, max_depth=7,\n",
    "                                                    min_child_weight=1, gamma=0.2, objective='binary:logistic',\n",
    "                                                    nthread=multiprocessing.cpu_count(), scale_pos_weight=1),\n",
    "                        param_grid=param_test5, scoring='roc_auc', n_jobs=4, iid=False, cv=5)\n",
    "\n",
    "gsearch5.fit(X_train, y_train)\n",
    "gsearch5.grid_scores_, gsearch5.best_params_, gsearch5.best_score_"
   ]
  },
  {
   "cell_type": "code",
   "execution_count": 34,
   "metadata": {},
   "outputs": [
    {
     "data": {
      "text/plain": [
       "([mean: 0.85866, std: 0.01134, params: {'reg_alpha': 0},\n  mean: 0.85813, std: 0.01063, params: {'reg_alpha': 1e-05},\n  mean: 0.85642, std: 0.01161, params: {'reg_alpha': 0.01},\n  mean: 0.85576, std: 0.00982, params: {'reg_alpha': 0.1},\n  mean: 0.85558, std: 0.01356, params: {'reg_alpha': 1},\n  mean: 0.64312, std: 0.01979, params: {'reg_alpha': 100}],\n {'reg_alpha': 0},\n 0.85866229740259925)"
      ]
     },
     "execution_count": 34,
     "metadata": {},
     "output_type": "execute_result"
    }
   ],
   "source": [
    "param_test6 = {\n",
    "    'reg_alpha': [0, 1e-5, 1e-2, 0.1, 1, 100]\n",
    "}\n",
    "\n",
    "gsearch6 = GridSearchCV(estimator=xgb.XGBClassifier(learning_rate=0.3, n_estimators=175, max_depth=7,\n",
    "                                                    min_child_weight=1, gamma=0.2, objective='binary:logistic',\n",
    "                                                    nthread=multiprocessing.cpu_count(), scale_pos_weight=1,\n",
    "                                                    colsample_bytree=0.45, subsample=0.9),\n",
    "                        param_grid=param_test6, scoring='roc_auc', n_jobs=4, iid=False, cv=5)\n",
    "\n",
    "gsearch6.fit(X_train, y_train)\n",
    "gsearch6.grid_scores_, gsearch6.best_params_, gsearch6.best_score_"
   ]
  },
  {
   "cell_type": "code",
   "execution_count": 38,
   "metadata": {},
   "outputs": [
    {
     "data": {
      "text/plain": [
       "([mean: 0.85866, std: 0.01134, params: {'reg_alpha': 0.0},\n  mean: 0.85813, std: 0.01063, params: {'reg_alpha': 1e-05},\n  mean: 0.85882, std: 0.01014, params: {'reg_alpha': 5e-05},\n  mean: 0.85882, std: 0.01014, params: {'reg_alpha': 6e-05},\n  mean: 0.85843, std: 0.01040, params: {'reg_alpha': 7e-05}],\n {'reg_alpha': 6e-05},\n 0.85882049141100991)"
      ]
     },
     "execution_count": 38,
     "metadata": {},
     "output_type": "execute_result"
    }
   ],
   "source": [
    "param_test7 = {\n",
    "    'reg_alpha': [0.00, 0.00001, 0.00005, 0.00006, 0.00007]\n",
    "}\n",
    "\n",
    "gsearch7 = GridSearchCV(estimator=xgb.XGBClassifier(learning_rate=0.3, n_estimators=175, max_depth=7,\n",
    "                                                    min_child_weight=1, gamma=0.2, objective='binary:logistic',\n",
    "                                                    nthread=multiprocessing.cpu_count(), scale_pos_weight=1,\n",
    "                                                    colsample_bytree=0.45, subsample=0.9),\n",
    "                        param_grid=param_test7, scoring='roc_auc', n_jobs=4, iid=False, cv=5)\n",
    "\n",
    "gsearch7.fit(X_train, y_train)\n",
    "gsearch7.grid_scores_, gsearch7.best_params_, gsearch7.best_score_"
   ]
  },
  {
   "cell_type": "code",
   "execution_count": 40,
   "metadata": {},
   "outputs": [
    {
     "name": "stderr",
     "output_type": "stream",
     "text": [
      "Will train until cv error hasn't decreased in 50 rounds.\n[0]\tcv-test-auc:0.6057009999999999+0.015211405917928824\tcv-train-auc:0.6188352+0.012986082833556865\n"
     ]
    },
    {
     "name": "stderr",
     "output_type": "stream",
     "text": [
      "Stopping. Best iteration:\n[128] cv-mean:0.8492654\tcv-std:0.008980814653471038\n"
     ]
    },
    {
     "name": "stdout",
     "output_type": "stream",
     "text": [
      "\nModel Report\nAccuracy : 0.9715\nAUC Score (Train): 0.984765\n"
     ]
    },
    {
     "data": {
      "image/png": "[encoded data removed]",
      "text/plain": [
       "<matplotlib.figure.Figure at 0xd553831828>"
      ]
     },
     "metadata": {},
     "output_type": "display_data"
    }
   ],
   "source": [
    "gbm3 = xgb.XGBClassifier(nthread=multiprocessing.cpu_count(), n_estimators=1000,  max_depth=7,\n",
    "                         objective='binary:logistic', learning_rate=0.3, min_child_weight=1,\n",
    "                         gamma=0.2, colsample_bytree=0.45, subsample=0.9, reg_alpha=6e-05)\n",
    "\n",
    "modelfit(gbm3, X_train, y_train, predictors)"
   ]
  },
  {
   "cell_type": "code",
   "execution_count": null,
   "metadata": {},
   "outputs": [],
   "source": [
    ""
   ]
  },
  {
   "cell_type": "code",
   "execution_count": 66,
   "metadata": {
    "collapsed": false
   },
   "outputs": [],
   "source": [
    "gbm4 = xgb.XGBClassifier(nthread=multiprocessing.cpu_count(), n_estimators=408,  max_depth=6,\n",
    "                         objective='binary:logistic', learning_rate=0.3, min_child_weight=1,\n",
    "                         gamma=0.2, colsample_bytree=0.25, subsample=0.8, reg_alpha=0.1)\n",
    "\n",
    "gbm4.fit(X_train, y_train)\n",
    "\n",
    "y_test = gbm4.predict(X_test)\n",
    "y_test_proba = gbm4.predict_proba(X_test)"
   ]
  },
  {
   "cell_type": "code",
   "execution_count": 68,
   "metadata": {
    "collapsed": false
   },
   "outputs": [],
   "source": [
    "submission = pd.Series(data=y_test, name='Action', index=kagTestDat['id'])\n",
    "\n",
    "submission.to_csv(\"~/Documents/git/DataMining/submission_xgboost.csv\",index=True,sep=',', header=True,)"
   ]
  },
  {
   "cell_type": "code",
   "execution_count": null,
   "metadata": {
    "collapsed": true
   },
   "outputs": [],
   "source": [
    ""
   ]
  },
  {
   "cell_type": "code",
   "execution_count": null,
   "metadata": {
    "collapsed": true
   },
   "outputs": [],
   "source": [
    ""
   ]
  }
 ],
 "metadata": {
  "kernelspec": {
   "display_name": "Homework1",
   "language": "python",
   "name": "homework1"
  },
  "language_info": {
   "codemirror_mode": {
    "name": "ipython",
    "version": 2.0
   },
   "file_extension": ".py",
   "mimetype": "text/x-python",
   "name": "python",
   "nbconvert_exporter": "python",
   "pygments_lexer": "ipython2",
   "version": "2.7.11"
  }
 },
 "nbformat": 4,
 "nbformat_minor": 0
}